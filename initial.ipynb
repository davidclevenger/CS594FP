{
 "cells": [
  {
   "cell_type": "markdown",
   "metadata": {},
   "source": [
    "# Strategy Analytics Pipeline"
   ]
  },
  {
   "cell_type": "markdown",
   "metadata": {},
   "source": [
    "### Environment Setup"
   ]
  },
  {
   "cell_type": "code",
   "execution_count": 1,
   "metadata": {},
   "outputs": [],
   "source": [
    "# libraries\n",
    "from pyspark.sql import SparkSession\n",
    "from pyspark import SparkContext\n",
    "from pyspark.sql import SQLContext\n",
    "import numpy as np\n",
    "import matplotlib.pyplot as plt\n",
    "\n",
    "# our code\n",
    "from src import transformations as tr\n",
    "from src import metrics as me"
   ]
  },
  {
   "cell_type": "markdown",
   "metadata": {},
   "source": [
    "### Get Spark Context and SQL Context (for dataframe manipulation)"
   ]
  },
  {
   "cell_type": "code",
   "execution_count": 2,
   "metadata": {},
   "outputs": [],
   "source": [
    "#start spark session\n",
    "sc = SparkContext.getOrCreate()\n",
    "spark = SparkSession.builder.getOrCreate()\n",
    "sqlContext = SQLContext(sc)"
   ]
  },
  {
   "cell_type": "markdown",
   "metadata": {},
   "source": [
    "### Read the data\n",
    "You may replace the path with your TOHLCV Dataset to run the same analytics on another security"
   ]
  },
  {
   "cell_type": "code",
   "execution_count": 3,
   "metadata": {},
   "outputs": [],
   "source": [
    "raw = spark.read.option('header', True).option('inferSchema', True).csv('./data/GSPC.csv')"
   ]
  },
  {
   "cell_type": "markdown",
   "metadata": {},
   "source": [
    "### Prepare the dataframe for processing\n",
    "* Rename the columns\n",
    "* Show the schema of the dataset\n",
    "* Show an example row"
   ]
  },
  {
   "cell_type": "code",
   "execution_count": 4,
   "metadata": {},
   "outputs": [
    {
     "name": "stdout",
     "output_type": "stream",
     "text": [
      "total records: 17318\n",
      "root\n",
      " |-- timestamp: timestamp (nullable = true)\n",
      " |-- o: double (nullable = true)\n",
      " |-- h: double (nullable = true)\n",
      " |-- l: double (nullable = true)\n",
      " |-- c: double (nullable = true)\n",
      " |-- ac: double (nullable = true)\n",
      " |-- v: long (nullable = true)\n",
      "\n"
     ]
    },
    {
     "data": {
      "text/plain": [
       "Row(timestamp=datetime.datetime(1950, 1, 3, 0, 0), o=16.66, h=16.66, l=16.66, c=16.66, ac=16.66, v=1260000)"
      ]
     },
     "execution_count": 4,
     "metadata": {},
     "output_type": "execute_result"
    }
   ],
   "source": [
    "# Rename columns\n",
    "raw = raw.withColumnRenamed('Date', 'timestamp')\n",
    "raw = raw.withColumnRenamed('Open', 'o')\n",
    "raw = raw.withColumnRenamed('High', 'h')\n",
    "raw = raw.withColumnRenamed('Low', 'l')\n",
    "raw = raw.withColumnRenamed('Close', 'c')\n",
    "raw = raw.withColumnRenamed('Adj Close', 'ac')\n",
    "raw = raw.withColumnRenamed('Volume', 'v')\n",
    "\n",
    "# About the dataset\n",
    "print(\"total records:\", raw.count())\n",
    "raw.printSchema()\n",
    "raw.first()"
   ]
  },
  {
   "cell_type": "markdown",
   "metadata": {},
   "source": [
    "### Generate new dataframes for each moving average\n",
    "* Drop unused columns\n",
    "* Collect the raw prices for use later\n",
    "* Generate two moving average dataframes"
   ]
  },
  {
   "cell_type": "code",
   "execution_count": 5,
   "metadata": {},
   "outputs": [],
   "source": [
    "# drop unused columns\n",
    "raw = raw.drop(\"o\", \"h\", \"l\", \"c\", \"v\")\n",
    "\n",
    "# get the raw adjusted prices for use later\n",
    "prices = np.array(raw.select(\"ac\").collect())\n",
    "\n",
    "# generate DataFrames for each moving average\n",
    "ma50 = tr.lagjoin(raw, \"ac\", 50)\n",
    "ma200 = tr.lagjoin(raw, \"ac\", 200)"
   ]
  },
  {
   "cell_type": "markdown",
   "metadata": {},
   "source": [
    "### Drop leading rows with insufficient data"
   ]
  },
  {
   "cell_type": "code",
   "execution_count": 6,
   "metadata": {},
   "outputs": [],
   "source": [
    "# drop rows with column containing 1 or more 0s\n",
    "ma50 = ma50.filter(ma50[\"ac_49\"] != 0)\n",
    "ma200 = ma200.filter(ma200[\"ac_199\"] != 0)"
   ]
  },
  {
   "cell_type": "markdown",
   "metadata": {},
   "source": [
    "### Append MA columns to the dataframe"
   ]
  },
  {
   "cell_type": "code",
   "execution_count": 7,
   "metadata": {},
   "outputs": [],
   "source": [
    "# Calculate Moving averages for each RDD\n",
    "ma50 = tr.MA(ma50, \"ac\", 50)\n",
    "ma200 = tr.MA(ma200, \"ac\", 200)"
   ]
  },
  {
   "cell_type": "markdown",
   "metadata": {},
   "source": [
    "### Generate Numpy Arrays of each moving average"
   ]
  },
  {
   "cell_type": "code",
   "execution_count": 8,
   "metadata": {},
   "outputs": [],
   "source": [
    "ma50 = np.array(ma50.select(\"MA_50\").collect())\n",
    "ma200 = np.array(ma200.select(\"MA_200\").collect())"
   ]
  },
  {
   "cell_type": "markdown",
   "metadata": {},
   "source": [
    "### Plot the moving averages against the raw price"
   ]
  },
  {
   "cell_type": "code",
   "execution_count": 9,
   "metadata": {},
   "outputs": [
    {
     "data": {
      "text/plain": [
       "[<matplotlib.lines.Line2D at 0x1129d6240>]"
      ]
     },
     "execution_count": 9,
     "metadata": {},
     "output_type": "execute_result"
    },
    {
     "data": {
      "image/png": "[encoded data removed]",
      "text/plain": [
       "<Figure size 432x288 with 1 Axes>"
      ]
     },
     "metadata": {
      "needs_background": "light"
     },
     "output_type": "display_data"
    }
   ],
   "source": [
    "# plot the prices with both MAs\n",
    "x = np.linspace(0, len(ma50), len(ma50))\n",
    "plt.plot(x, ma50);\n",
    "x = np.linspace(0, len(ma200), len(ma200))\n",
    "plt.plot(x, ma200)\n",
    "x = np.linspace(0, len(prices), len(prices))\n",
    "plt.plot(x, prices)"
   ]
  },
  {
   "cell_type": "markdown",
   "metadata": {},
   "source": [
    "### Generate the strategy and metrics for the buy-and-hold strategy"
   ]
  },
  {
   "cell_type": "code",
   "execution_count": 10,
   "metadata": {},
   "outputs": [],
   "source": [
    "buys, sells = me.getBuyAndHold(prices)"
   ]
  },
  {
   "cell_type": "code",
   "execution_count": 11,
   "metadata": {},
   "outputs": [],
   "source": [
    "cumulativeBH = float(me.getCumulativeProfit(buys, sells))\n",
    "averageBH = float(me.getAverageProfitPerTrade(buys, sells))\n",
    "sharpeBH = float(me.getSharpeRatio(buys, sells))\n",
    "sortinoBH = float(me.getSortinoRatio(buys, sells))\n",
    "sterlingBH = float(me.getSterlingRatio(buys, sells))"
   ]
  },
  {
   "cell_type": "code",
   "execution_count": 12,
   "metadata": {},
   "outputs": [
    {
     "name": "stdout",
     "output_type": "stream",
     "text": [
      "Cumulative return:  158.5852305522209 \n",
      "Average return per trade:  2642.0299410000002 \n",
      "Sharpe Ratio:  158.5152305522209 \n",
      "Sortino Ratio:  158.5152305522209 \n",
      "Sterling Ratio:  158.5152305522209\n"
     ]
    }
   ],
   "source": [
    "print(\"Cumulative return: \", cumulativeBH,\n",
    "      \"\\nAverage return per trade: \", averageBH,\n",
    "      \"\\nSharpe Ratio: \", sharpeBH,\n",
    "      \"\\nSortino Ratio: \", sortinoBH,\n",
    "      \"\\nSterling Ratio: \", sterlingBH)"
   ]
  },
  {
   "cell_type": "markdown",
   "metadata": {},
   "source": [
    "### Generate the strategy and metrics for the moving average crossover strategy"
   ]
  },
  {
   "cell_type": "code",
   "execution_count": 13,
   "metadata": {},
   "outputs": [],
   "source": [
    "buys, sells = me.getMACrossover(prices, ma50, ma200)"
   ]
  },
  {
   "cell_type": "code",
   "execution_count": 14,
   "metadata": {},
   "outputs": [],
   "source": [
    "cumulativeMAC = float(me.getCumulativeProfit(buys, sells))\n",
    "averageMAC = float(me.getAverageProfitPerTrade(buys, sells))\n",
    "sharpeMAC = float(me.getSharpeRatio(buys, sells))\n",
    "sortinoMAC = float(me.getSortinoRatio(buys, sells))\n",
    "sterlingMAC = float(me.getSterlingRatio(buys, sells))"
   ]
  },
  {
   "cell_type": "code",
   "execution_count": 15,
   "metadata": {},
   "outputs": [
    {
     "name": "stdout",
     "output_type": "stream",
     "text": [
      "Cumulative return:  94.05860702912402 \n",
      "Average return per trade:  81.84353385294116 \n",
      "Sharpe Ratio:  354.1349838724112 \n",
      "Sortino Ratio:  3120.382973269255 \n",
      "Sterling Ratio:  3.065224749954108\n"
     ]
    }
   ],
   "source": [
    "print(\"Cumulative return: \", cumulativeMAC,\n",
    "      \"\\nAverage return per trade: \", averageMAC,\n",
    "      \"\\nSharpe Ratio: \", sharpeMAC,\n",
    "      \"\\nSortino Ratio: \", sortinoMAC,\n",
    "      \"\\nSterling Ratio: \", sterlingMAC)"
   ]
  },
  {
   "cell_type": "markdown",
   "metadata": {},
   "source": [
    "### Generate heatmap of strategy performance metrics"
   ]
  },
  {
   "cell_type": "code",
   "execution_count": 17,
   "metadata": {},
   "outputs": [
    {
     "data": {
      "text/plain": [
       "<matplotlib.image.AxesImage at 0x11822de10>"
      ]
     },
     "execution_count": 17,
     "metadata": {},
     "output_type": "execute_result"
    },
    {
     "data": {
      "image/png": "[encoded data removed]",
      "text/plain": [
       "<Figure size 432x288 with 1 Axes>"
      ]
     },
     "metadata": {
      "needs_background": "light"
     },
     "output_type": "display_data"
    }
   ],
   "source": [
    "df = [[cumulativeBH, cumulativeMAC],\n",
    "      [averageBH, averageMAC],\n",
    "      [sharpeBH, sharpeMAC],\n",
    "      [sortinoBH, sortinoMAC],\n",
    "      [sterlingBH, sterlingMAC]]\n",
    "\n",
    "plt.imshow(df, cmap = \"viridis\", aspect='auto')"
   ]
  }
 ],
 "metadata": {
  "kernelspec": {
   "display_name": "Python 3",
   "language": "python",
   "name": "python3"
  },
  "language_info": {
   "codemirror_mode": {
    "name": "ipython",
    "version": 3
   },
   "file_extension": ".py",
   "mimetype": "text/x-python",
   "name": "python",
   "nbconvert_exporter": "python",
   "pygments_lexer": "ipython3",
   "version": "3.7.0"
  }
 },
 "nbformat": 4,
 "nbformat_minor": 2
}
