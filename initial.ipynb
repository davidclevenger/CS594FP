{
 "cells": [
  {
   "cell_type": "code",
   "execution_count": 1,
   "metadata": {},
   "outputs": [],
   "source": [
    "# libraries\n",
    "from pyspark.sql import SparkSession\n",
    "from pyspark import SparkContext\n",
    "import ts.flint\n",
    "from ts.flint import FlintContext\n",
    "from pyspark.sql import SQLContext\n",
    "\n",
    "# our code\n",
    "from src import transformations as tr"
   ]
  },
  {
   "cell_type": "code",
   "execution_count": 2,
   "metadata": {},
   "outputs": [],
   "source": [
    "#start spark session\n",
    "sc = SparkContext.getOrCreate()\n",
    "spark = SparkSession.builder.getOrCreate()\n",
    "sqlContext = SQLContext(sc)\n",
    "flintContext = FlintContext(sqlContext)"
   ]
  },
  {
   "cell_type": "code",
   "execution_count": 3,
   "metadata": {},
   "outputs": [],
   "source": [
    "raw = spark.read.option('header', True).option('inferSchema', True).csv('./data/GSPC.csv')"
   ]
  },
  {
   "cell_type": "code",
   "execution_count": 11,
   "metadata": {},
   "outputs": [
    {
     "name": "stdout",
     "output_type": "stream",
     "text": [
      "total records: 17318\n",
      "root\n",
      " |-- timestamp: timestamp (nullable = true)\n",
      " |-- ac: double (nullable = true)\n",
      "\n"
     ]
    },
    {
     "data": {
      "text/plain": [
       "Row(timestamp=datetime.datetime(1950, 1, 3, 0, 0), ac=16.66)"
      ]
     },
     "execution_count": 11,
     "metadata": {},
     "output_type": "execute_result"
    }
   ],
   "source": [
    "# Rename columns\n",
    "raw = raw.withColumnRenamed('Date', 'timestamp')\n",
    "raw = raw.withColumnRenamed('Open', 'o')\n",
    "raw = raw.withColumnRenamed('High', 'h')\n",
    "raw = raw.withColumnRenamed('Low', 'l')\n",
    "raw = raw.withColumnRenamed('Close', 'c')\n",
    "raw = raw.withColumnRenamed('Adj Close', 'ac')\n",
    "raw = raw.withColumnRenamed('Volume', 'v')\n",
    "\n",
    "# About the dataset\n",
    "print(\"total records:\", raw.count())\n",
    "raw.printSchema()\n",
    "raw.first()"
   ]
  },
  {
   "cell_type": "code",
   "execution_count": 8,
   "metadata": {},
   "outputs": [],
   "source": [
    "# drop unused columns\n",
    "raw = raw.drop(\"o\", \"h\", \"l\", \"c\", \"v\")\n",
    "\n",
    "# generate DataFrames for each moving average\n",
    "ma50 = tr.lagjoin(raw, \"ac\", 50)\n",
    "ma200 = tr.lagjoin(raw, \"ac\", 200)"
   ]
  },
  {
   "cell_type": "code",
   "execution_count": 12,
   "metadata": {},
   "outputs": [
    {
     "data": {
      "text/plain": [
       "Row(timestamp=datetime.datetime(1950, 10, 18, 0, 0), ac_0=20.01, ac_1=19.889999, ac_2=19.709999, ac_3=19.85, ac_4=19.860001, ac_5=19.780001, ac_6=20.0, ac_7=20.120001, ac_8=19.889999, ac_9=20.0, ac_10=19.66, ac_11=19.690001, ac_12=19.450001, ac_13=19.42, ac_14=19.41, ac_15=19.139999, ac_16=19.42, ac_17=19.440001, ac_18=19.370001, ac_19=19.209999, ac_20=19.309999, ac_21=19.370001, ac_22=19.290001, ac_23=19.18, ac_24=19.09, ac_25=18.870001, ac_26=18.610001, ac_27=18.75, ac_28=18.59, ac_29=18.540001, ac_30=18.68, ac_31=18.549999, ac_32=18.42, ac_33=18.43, ac_34=18.540001, ac_35=18.530001, ac_36=18.540001, ac_37=18.790001, ac_38=18.82, ac_39=18.68, ac_40=18.700001, ac_41=18.68, ac_42=18.540001, ac_43=18.34, ac_44=18.32, ac_45=18.290001, ac_46=18.280001, ac_47=18.48, ac_48=18.610001, ac_49=18.459999, ac_50=18.41, ac_51=18.139999, ac_52=17.99, ac_53=17.950001, ac_54=18.02, ac_55=17.84, ac_56=17.690001, ac_57=17.5, ac_58=17.27, ac_59=17.23, ac_60=17.48, ac_61=17.59, ac_62=17.610001, ac_63=17.360001, ac_64=17.059999, ac_65=16.68, ac_66=16.870001, ac_67=16.690001, ac_68=16.870001, ac_69=17.32, ac_70=17.59, ac_71=17.67, ac_72=17.91, ac_73=17.809999, ac_74=17.639999, ac_75=17.690001, ac_76=17.440001, ac_77=18.110001, ac_78=17.91, ac_79=18.110001, ac_80=19.139999, ac_81=19.16, ac_82=19.0, ac_83=18.83, ac_84=18.92, ac_85=18.969999, ac_86=18.93, ac_87=18.98, ac_88=19.25, ac_89=19.4, ac_90=19.26, ac_91=19.139999, ac_92=18.93, ac_93=18.879999, ac_94=18.6, ac_95=18.790001, ac_96=18.77, ac_97=18.780001, ac_98=18.719999, ac_99=18.67, ac_100=18.690001, ac_101=18.690001, ac_102=18.709999, ac_103=18.6, ac_104=18.68, ac_105=18.559999, ac_106=18.52, ac_107=18.440001, ac_108=18.26, ac_109=18.18, ac_110=18.290001, ac_111=18.290001, ac_112=18.27, ac_113=18.27, ac_114=18.219999, ac_115=18.120001, ac_116=18.27, ac_117=18.110001, ac_118=18.219999, ac_119=17.959999, ac_120=17.860001, ac_121=17.76, ac_122=17.83, ac_123=17.83, ac_124=17.959999, ac_125=17.93, ac_126=18.049999, ac_127=18.030001, ac_128=17.879999, ac_129=17.959999, ac_130=17.98, ac_131=17.940001, ac_132=17.75, ac_133=17.85, ac_134=17.780001, ac_135=17.629999, ac_136=17.549999, ac_137=17.530001, ac_138=17.290001, ac_139=17.299999, ac_140=17.440001, ac_141=17.530001, ac_142=17.459999, ac_143=17.559999, ac_144=17.559999, ac_145=17.549999, ac_146=17.450001, ac_147=17.440001, ac_148=17.450001, ac_149=17.49, ac_150=17.450001, ac_151=17.25, ac_152=17.120001, ac_153=17.09, ac_154=17.07, ac_155=17.190001, ac_156=17.200001, ac_157=17.32, ac_158=17.290001, ac_159=17.23, ac_160=17.24, ac_161=17.219999, ac_162=17.280001, ac_163=17.280001, ac_164=17.209999, ac_165=17.17, ac_166=17.200001, ac_167=17.15, ac_168=16.99, ac_169=17.059999, ac_170=17.059999, ac_171=17.24, ac_172=17.280001, ac_173=17.209999, ac_174=17.23, ac_175=17.32, ac_176=17.290001, ac_177=17.23, ac_178=17.049999, ac_179=17.049999, ac_180=17.02, ac_181=16.82, ac_182=16.73, ac_183=16.74, ac_184=16.860001, ac_185=16.92, ac_186=16.9, ac_187=16.870001, ac_188=16.85, ac_189=16.860001, ac_190=16.719999, ac_191=16.67, ac_192=16.76, ac_193=17.09, ac_194=17.030001, ac_195=17.08, ac_196=16.98, ac_197=16.93, ac_198=16.85, ac_199=16.66)"
      ]
     },
     "execution_count": 12,
     "metadata": {},
     "output_type": "execute_result"
    }
   ],
   "source": [
    "# drop rows with column containing 1 or more 0s\n",
    "ma50 = ma50.filter(ma50[\"ac_49\"] != 0)\n",
    "ma200 = ma200.filter(ma200[\"ac_199\"] != 0)"
   ]
  },
  {
   "cell_type": "code",
   "execution_count": null,
   "metadata": {},
   "outputs": [],
   "source": []
  }
 ],
 "metadata": {
  "kernelspec": {
   "display_name": "Python 3",
   "language": "python",
   "name": "python3"
  },
  "language_info": {
   "codemirror_mode": {
    "name": "ipython",
    "version": 3
   },
   "file_extension": ".py",
   "mimetype": "text/x-python",
   "name": "python",
   "nbconvert_exporter": "python",
   "pygments_lexer": "ipython3",
   "version": "3.7.0"
  }
 },
 "nbformat": 4,
 "nbformat_minor": 2
}
